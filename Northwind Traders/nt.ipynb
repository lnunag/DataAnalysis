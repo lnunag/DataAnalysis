{
 "cells": [
  {
   "cell_type": "code",
   "execution_count": 2,
   "id": "2c668bae",
   "metadata": {},
   "outputs": [],
   "source": [
    "import pandas as pd\n",
    "import matplotlib.pyplot as plt\n",
    "import numpy as np\n",
    "import seaborn as sns\n",
    "%matplotlib inline\n",
    "\n",
    "# Libraries"
   ]
  },
  {
   "cell_type": "markdown",
   "id": "537b8e98",
   "metadata": {},
   "source": [
    "Data preparation"
   ]
  },
  {
   "cell_type": "code",
   "execution_count": 27,
   "id": "6817bcc4",
   "metadata": {},
   "outputs": [],
   "source": [
    "categories = pd.read_csv('categories.csv', encoding='windows-1252', index_col=None)\n",
    "customers = pd.read_csv('customers.csv', encoding='windows-1252', index_col=None)\n",
    "employees = pd.read_csv('employees.csv', encoding='windows-1252', index_col=None)\n",
    "order_details = pd.read_csv('order_details.csv', encoding='windows-1252', index_col=None)\n",
    "orders = pd.read_csv('orders.csv', encoding='windows-1252', index_col=None)\n",
    "products = pd.read_csv('products.csv', encoding='windows-1252', index_col=None)\n",
    "shippers = pd.read_csv('shippers.csv', encoding='windows-1252', index_col=None)\n",
    "\n",
    "# Reading all of the data in"
   ]
  },
  {
   "cell_type": "code",
   "execution_count": 20,
   "id": "3d5530a4",
   "metadata": {},
   "outputs": [
    {
     "data": {
      "text/html": [
       "<div>\n",
       "<style scoped>\n",
       "    .dataframe tbody tr th:only-of-type {\n",
       "        vertical-align: middle;\n",
       "    }\n",
       "\n",
       "    .dataframe tbody tr th {\n",
       "        vertical-align: top;\n",
       "    }\n",
       "\n",
       "    .dataframe thead th {\n",
       "        text-align: right;\n",
       "    }\n",
       "</style>\n",
       "<table border=\"1\" class=\"dataframe\">\n",
       "  <thead>\n",
       "    <tr style=\"text-align: right;\">\n",
       "      <th></th>\n",
       "      <th>orderID</th>\n",
       "      <th>customerID</th>\n",
       "      <th>employeeID</th>\n",
       "      <th>orderDate</th>\n",
       "      <th>requiredDate</th>\n",
       "      <th>shippedDate</th>\n",
       "      <th>shipperID</th>\n",
       "      <th>freight</th>\n",
       "    </tr>\n",
       "  </thead>\n",
       "  <tbody>\n",
       "    <tr>\n",
       "      <th>0</th>\n",
       "      <td>10248</td>\n",
       "      <td>VINET</td>\n",
       "      <td>5</td>\n",
       "      <td>2013-07-04</td>\n",
       "      <td>2013-08-01</td>\n",
       "      <td>2013-07-16</td>\n",
       "      <td>3</td>\n",
       "      <td>32.38</td>\n",
       "    </tr>\n",
       "    <tr>\n",
       "      <th>1</th>\n",
       "      <td>10249</td>\n",
       "      <td>TOMSP</td>\n",
       "      <td>6</td>\n",
       "      <td>2013-07-05</td>\n",
       "      <td>2013-08-16</td>\n",
       "      <td>2013-07-10</td>\n",
       "      <td>1</td>\n",
       "      <td>11.61</td>\n",
       "    </tr>\n",
       "    <tr>\n",
       "      <th>2</th>\n",
       "      <td>10250</td>\n",
       "      <td>HANAR</td>\n",
       "      <td>4</td>\n",
       "      <td>2013-07-08</td>\n",
       "      <td>2013-08-05</td>\n",
       "      <td>2013-07-12</td>\n",
       "      <td>2</td>\n",
       "      <td>65.83</td>\n",
       "    </tr>\n",
       "    <tr>\n",
       "      <th>3</th>\n",
       "      <td>10251</td>\n",
       "      <td>VICTE</td>\n",
       "      <td>3</td>\n",
       "      <td>2013-07-08</td>\n",
       "      <td>2013-08-05</td>\n",
       "      <td>2013-07-15</td>\n",
       "      <td>1</td>\n",
       "      <td>41.34</td>\n",
       "    </tr>\n",
       "    <tr>\n",
       "      <th>4</th>\n",
       "      <td>10252</td>\n",
       "      <td>SUPRD</td>\n",
       "      <td>4</td>\n",
       "      <td>2013-07-09</td>\n",
       "      <td>2013-08-06</td>\n",
       "      <td>2013-07-11</td>\n",
       "      <td>2</td>\n",
       "      <td>51.30</td>\n",
       "    </tr>\n",
       "  </tbody>\n",
       "</table>\n",
       "</div>"
      ],
      "text/plain": [
       "   orderID customerID  employeeID   orderDate requiredDate shippedDate  \\\n",
       "0    10248      VINET           5  2013-07-04   2013-08-01  2013-07-16   \n",
       "1    10249      TOMSP           6  2013-07-05   2013-08-16  2013-07-10   \n",
       "2    10250      HANAR           4  2013-07-08   2013-08-05  2013-07-12   \n",
       "3    10251      VICTE           3  2013-07-08   2013-08-05  2013-07-15   \n",
       "4    10252      SUPRD           4  2013-07-09   2013-08-06  2013-07-11   \n",
       "\n",
       "   shipperID  freight  \n",
       "0          3    32.38  \n",
       "1          1    11.61  \n",
       "2          2    65.83  \n",
       "3          1    41.34  \n",
       "4          2    51.30  "
      ]
     },
     "execution_count": 20,
     "metadata": {},
     "output_type": "execute_result"
    }
   ],
   "source": [
    "orders.head()"
   ]
  },
  {
   "cell_type": "code",
   "execution_count": 17,
   "id": "06aa987d",
   "metadata": {
    "scrolled": true
   },
   "outputs": [
    {
     "data": {
      "text/html": [
       "<div>\n",
       "<style scoped>\n",
       "    .dataframe tbody tr th:only-of-type {\n",
       "        vertical-align: middle;\n",
       "    }\n",
       "\n",
       "    .dataframe tbody tr th {\n",
       "        vertical-align: top;\n",
       "    }\n",
       "\n",
       "    .dataframe thead th {\n",
       "        text-align: right;\n",
       "    }\n",
       "</style>\n",
       "<table border=\"1\" class=\"dataframe\">\n",
       "  <thead>\n",
       "    <tr style=\"text-align: right;\">\n",
       "      <th></th>\n",
       "      <th>orderID</th>\n",
       "      <th>productID</th>\n",
       "      <th>unitPrice</th>\n",
       "      <th>quantity</th>\n",
       "      <th>discount</th>\n",
       "    </tr>\n",
       "  </thead>\n",
       "  <tbody>\n",
       "    <tr>\n",
       "      <th>0</th>\n",
       "      <td>10248</td>\n",
       "      <td>11</td>\n",
       "      <td>14.0</td>\n",
       "      <td>12</td>\n",
       "      <td>0.0</td>\n",
       "    </tr>\n",
       "    <tr>\n",
       "      <th>1</th>\n",
       "      <td>10248</td>\n",
       "      <td>42</td>\n",
       "      <td>9.8</td>\n",
       "      <td>10</td>\n",
       "      <td>0.0</td>\n",
       "    </tr>\n",
       "    <tr>\n",
       "      <th>2</th>\n",
       "      <td>10248</td>\n",
       "      <td>72</td>\n",
       "      <td>34.8</td>\n",
       "      <td>5</td>\n",
       "      <td>0.0</td>\n",
       "    </tr>\n",
       "    <tr>\n",
       "      <th>3</th>\n",
       "      <td>10249</td>\n",
       "      <td>14</td>\n",
       "      <td>18.6</td>\n",
       "      <td>9</td>\n",
       "      <td>0.0</td>\n",
       "    </tr>\n",
       "    <tr>\n",
       "      <th>4</th>\n",
       "      <td>10249</td>\n",
       "      <td>51</td>\n",
       "      <td>42.4</td>\n",
       "      <td>40</td>\n",
       "      <td>0.0</td>\n",
       "    </tr>\n",
       "  </tbody>\n",
       "</table>\n",
       "</div>"
      ],
      "text/plain": [
       "   orderID  productID  unitPrice  quantity  discount\n",
       "0    10248         11       14.0        12       0.0\n",
       "1    10248         42        9.8        10       0.0\n",
       "2    10248         72       34.8         5       0.0\n",
       "3    10249         14       18.6         9       0.0\n",
       "4    10249         51       42.4        40       0.0"
      ]
     },
     "execution_count": 17,
     "metadata": {},
     "output_type": "execute_result"
    }
   ],
   "source": [
    "order_details.head()"
   ]
  },
  {
   "cell_type": "markdown",
   "id": "3b2f2068",
   "metadata": {},
   "source": [
    "Data cleaning"
   ]
  },
  {
   "cell_type": "code",
   "execution_count": 35,
   "id": "c1896cd0",
   "metadata": {},
   "outputs": [],
   "source": [
    "orders['orderDate'] = pd.to_datetime(orders['orderDate'])\n",
    "orders['requiredDate'] = pd.to_datetime(orders['requiredDate'])\n",
    "orders['shippedDate'] = pd.to_datetime(orders['shippedDate'])\n",
    "\n",
    "# Looking through the data, we see three columns with the object dtype instead of datetime."
   ]
  },
  {
   "cell_type": "code",
   "execution_count": 28,
   "id": "2ccaed46",
   "metadata": {
    "scrolled": true
   },
   "outputs": [
    {
     "name": "stdout",
     "output_type": "stream",
     "text": [
      "<class 'pandas.core.frame.DataFrame'>\n",
      "RangeIndex: 9 entries, 0 to 8\n",
      "Data columns (total 6 columns):\n",
      " #   Column        Non-Null Count  Dtype  \n",
      "---  ------        --------------  -----  \n",
      " 0   employeeID    9 non-null      int64  \n",
      " 1   employeeName  9 non-null      object \n",
      " 2   title         9 non-null      object \n",
      " 3   city          9 non-null      object \n",
      " 4   country       9 non-null      object \n",
      " 5   reportsTo     8 non-null      float64\n",
      "dtypes: float64(1), int64(1), object(4)\n",
      "memory usage: 564.0+ bytes\n"
     ]
    }
   ],
   "source": [
    "employees.info()\n",
    "# When checking each df, we can see that employees.info() has a missing value from its reportsTo column.\n",
    "# Before inspection, this is likely that the employee is either the boss, or has no one to report to"
   ]
  },
  {
   "cell_type": "code",
   "execution_count": 29,
   "id": "0a6af885",
   "metadata": {},
   "outputs": [
    {
     "name": "stdout",
     "output_type": "stream",
     "text": [
      "<class 'pandas.core.frame.DataFrame'>\n",
      "RangeIndex: 830 entries, 0 to 829\n",
      "Data columns (total 8 columns):\n",
      " #   Column        Non-Null Count  Dtype  \n",
      "---  ------        --------------  -----  \n",
      " 0   orderID       830 non-null    int64  \n",
      " 1   customerID    830 non-null    object \n",
      " 2   employeeID    830 non-null    int64  \n",
      " 3   orderDate     830 non-null    object \n",
      " 4   requiredDate  830 non-null    object \n",
      " 5   shippedDate   809 non-null    object \n",
      " 6   shipperID     830 non-null    int64  \n",
      " 7   freight       830 non-null    float64\n",
      "dtypes: float64(1), int64(3), object(4)\n",
      "memory usage: 52.0+ KB\n"
     ]
    }
   ],
   "source": [
    "orders.info()\n",
    "# We can also see with .info() that the orders table also has missing data."
   ]
  },
  {
   "cell_type": "code",
   "execution_count": 31,
   "id": "ad7923d3",
   "metadata": {},
   "outputs": [
    {
     "data": {
      "text/plain": [
       "orderID          0\n",
       "customerID       0\n",
       "employeeID       0\n",
       "orderDate        0\n",
       "requiredDate     0\n",
       "shippedDate     21\n",
       "shipperID        0\n",
       "freight          0\n",
       "dtype: int64"
      ]
     },
     "execution_count": 31,
     "metadata": {},
     "output_type": "execute_result"
    }
   ],
   "source": [
    "orders.isnull().sum()"
   ]
  },
  {
   "cell_type": "markdown",
   "id": "419c1b24",
   "metadata": {},
   "source": [
    "We see that we have missing values for shippedDate, we can assume here that the order simply does not have a value because it hasn't been shipped yet."
   ]
  },
  {
   "cell_type": "markdown",
   "id": "70462466",
   "metadata": {},
   "source": [
    "Now that we have addressed all missing values and we know what the data looks like, we can begin analysis."
   ]
  },
  {
   "cell_type": "markdown",
   "id": "321c841f",
   "metadata": {},
   "source": [
    "Are there any noticeable sales trends over time?"
   ]
  },
  {
   "cell_type": "code",
   "execution_count": 51,
   "id": "6707ba0a",
   "metadata": {},
   "outputs": [
    {
     "data": {
      "text/html": [
       "<div>\n",
       "<style scoped>\n",
       "    .dataframe tbody tr th:only-of-type {\n",
       "        vertical-align: middle;\n",
       "    }\n",
       "\n",
       "    .dataframe tbody tr th {\n",
       "        vertical-align: top;\n",
       "    }\n",
       "\n",
       "    .dataframe thead th {\n",
       "        text-align: right;\n",
       "    }\n",
       "</style>\n",
       "<table border=\"1\" class=\"dataframe\">\n",
       "  <thead>\n",
       "    <tr style=\"text-align: right;\">\n",
       "      <th></th>\n",
       "      <th>orderDate</th>\n",
       "      <th>total_sales</th>\n",
       "    </tr>\n",
       "  </thead>\n",
       "  <tbody>\n",
       "    <tr>\n",
       "      <th>0</th>\n",
       "      <td>2013-07-01</td>\n",
       "      <td>27861.8950</td>\n",
       "    </tr>\n",
       "    <tr>\n",
       "      <th>1</th>\n",
       "      <td>2013-08-01</td>\n",
       "      <td>25485.2750</td>\n",
       "    </tr>\n",
       "    <tr>\n",
       "      <th>2</th>\n",
       "      <td>2013-09-01</td>\n",
       "      <td>26381.4000</td>\n",
       "    </tr>\n",
       "    <tr>\n",
       "      <th>3</th>\n",
       "      <td>2013-10-01</td>\n",
       "      <td>37515.7250</td>\n",
       "    </tr>\n",
       "    <tr>\n",
       "      <th>4</th>\n",
       "      <td>2013-11-01</td>\n",
       "      <td>45600.0450</td>\n",
       "    </tr>\n",
       "    <tr>\n",
       "      <th>5</th>\n",
       "      <td>2013-12-01</td>\n",
       "      <td>45239.6300</td>\n",
       "    </tr>\n",
       "    <tr>\n",
       "      <th>6</th>\n",
       "      <td>2014-01-01</td>\n",
       "      <td>61258.0700</td>\n",
       "    </tr>\n",
       "    <tr>\n",
       "      <th>7</th>\n",
       "      <td>2014-02-01</td>\n",
       "      <td>38483.6350</td>\n",
       "    </tr>\n",
       "    <tr>\n",
       "      <th>8</th>\n",
       "      <td>2014-03-01</td>\n",
       "      <td>38547.2200</td>\n",
       "    </tr>\n",
       "    <tr>\n",
       "      <th>9</th>\n",
       "      <td>2014-04-01</td>\n",
       "      <td>53032.9525</td>\n",
       "    </tr>\n",
       "    <tr>\n",
       "      <th>10</th>\n",
       "      <td>2014-05-01</td>\n",
       "      <td>53781.2900</td>\n",
       "    </tr>\n",
       "    <tr>\n",
       "      <th>11</th>\n",
       "      <td>2014-06-01</td>\n",
       "      <td>36362.8025</td>\n",
       "    </tr>\n",
       "    <tr>\n",
       "      <th>12</th>\n",
       "      <td>2014-07-01</td>\n",
       "      <td>51020.8575</td>\n",
       "    </tr>\n",
       "    <tr>\n",
       "      <th>13</th>\n",
       "      <td>2014-08-01</td>\n",
       "      <td>47287.6700</td>\n",
       "    </tr>\n",
       "    <tr>\n",
       "      <th>14</th>\n",
       "      <td>2014-09-01</td>\n",
       "      <td>55629.2425</td>\n",
       "    </tr>\n",
       "    <tr>\n",
       "      <th>15</th>\n",
       "      <td>2014-10-01</td>\n",
       "      <td>66749.2260</td>\n",
       "    </tr>\n",
       "    <tr>\n",
       "      <th>16</th>\n",
       "      <td>2014-11-01</td>\n",
       "      <td>43533.8090</td>\n",
       "    </tr>\n",
       "    <tr>\n",
       "      <th>17</th>\n",
       "      <td>2014-12-01</td>\n",
       "      <td>71398.4285</td>\n",
       "    </tr>\n",
       "    <tr>\n",
       "      <th>18</th>\n",
       "      <td>2015-01-01</td>\n",
       "      <td>94222.1105</td>\n",
       "    </tr>\n",
       "    <tr>\n",
       "      <th>19</th>\n",
       "      <td>2015-02-01</td>\n",
       "      <td>99415.2875</td>\n",
       "    </tr>\n",
       "    <tr>\n",
       "      <th>20</th>\n",
       "      <td>2015-03-01</td>\n",
       "      <td>104854.1550</td>\n",
       "    </tr>\n",
       "    <tr>\n",
       "      <th>21</th>\n",
       "      <td>2015-04-01</td>\n",
       "      <td>123798.6825</td>\n",
       "    </tr>\n",
       "    <tr>\n",
       "      <th>22</th>\n",
       "      <td>2015-05-01</td>\n",
       "      <td>18333.6305</td>\n",
       "    </tr>\n",
       "  </tbody>\n",
       "</table>\n",
       "</div>"
      ],
      "text/plain": [
       "    orderDate  total_sales\n",
       "0  2013-07-01   27861.8950\n",
       "1  2013-08-01   25485.2750\n",
       "2  2013-09-01   26381.4000\n",
       "3  2013-10-01   37515.7250\n",
       "4  2013-11-01   45600.0450\n",
       "5  2013-12-01   45239.6300\n",
       "6  2014-01-01   61258.0700\n",
       "7  2014-02-01   38483.6350\n",
       "8  2014-03-01   38547.2200\n",
       "9  2014-04-01   53032.9525\n",
       "10 2014-05-01   53781.2900\n",
       "11 2014-06-01   36362.8025\n",
       "12 2014-07-01   51020.8575\n",
       "13 2014-08-01   47287.6700\n",
       "14 2014-09-01   55629.2425\n",
       "15 2014-10-01   66749.2260\n",
       "16 2014-11-01   43533.8090\n",
       "17 2014-12-01   71398.4285\n",
       "18 2015-01-01   94222.1105\n",
       "19 2015-02-01   99415.2875\n",
       "20 2015-03-01  104854.1550\n",
       "21 2015-04-01  123798.6825\n",
       "22 2015-05-01   18333.6305"
      ]
     },
     "execution_count": 51,
     "metadata": {},
     "output_type": "execute_result"
    }
   ],
   "source": [
    "merged_orders = pd.merge(orders, order_details, on='orderID')\n",
    "\n",
    "merged_orders['total_sales'] = merged_orders['unitPrice'] * merged_orders['quantity'] * (1-merged_orders['discount'])\n",
    "monthly_sales = merged_orders.groupby(merged_orders['orderDate'].dt.to_period('M').dt.to_timestamp())['total_sales'].sum().reset_index()\n",
    "\n",
    "monthly_sales"
   ]
  },
  {
   "cell_type": "code",
   "execution_count": 52,
   "id": "a5352a6d",
   "metadata": {},
   "outputs": [
    {
     "data": {
      "image/png": "[encoded data removed]",
      "text/plain": [
       "<Figure size 1200x600 with 1 Axes>"
      ]
     },
     "metadata": {},
     "output_type": "display_data"
    }
   ],
   "source": [
    "plt.figure(figsize=(12, 6))\n",
    "sns.lineplot(x='orderDate', y='total_sales', data=monthly_sales, marker='o')\n",
    "plt.title('Total Sales Trend Over Time')\n",
    "plt.xlabel('Month')\n",
    "plt.ylabel('Total Sales')\n",
    "plt.show()"
   ]
  },
  {
   "cell_type": "markdown",
   "id": "b58d816b",
   "metadata": {},
   "source": [
    "The total sales slowly grew with alternating climbs and falls from July 2013 to October 2014. Starting November of 2014, we can see that there is a large increase in sales, with an estimated 80,000 dollars increase in monthly profit by April 2015. However, by the next month of May, total sales will have tanked and dropped to less than 20,000 dollars."
   ]
  },
  {
   "cell_type": "markdown",
   "id": "0c51a1a8",
   "metadata": {},
   "source": [
    "Which are the best and worst selling products?"
   ]
  },
  {
   "cell_type": "code",
   "execution_count": 64,
   "id": "d7107acc",
   "metadata": {},
   "outputs": [],
   "source": [
    "merged_products = pd.merge(products, order_details, on='productID')\n",
    "\n",
    "product_sales = merged_products.groupby(['productID', 'productName'])['quantity'].sum().reset_index()\n",
    "top_products = product_sales.sort_values(by='quantity', ascending=False).head(5)\n",
    "worst_products = product_sales.sort_values(by='quantity', ascending=False).tail(5)\n",
    "\n",
    "combined_products = pd.concat([top_products, worst_products])"
   ]
  },
  {
   "cell_type": "code",
   "execution_count": 61,
   "id": "01b768c1",
   "metadata": {},
   "outputs": [
    {
     "data": {
      "text/html": [
       "<div>\n",
       "<style scoped>\n",
       "    .dataframe tbody tr th:only-of-type {\n",
       "        vertical-align: middle;\n",
       "    }\n",
       "\n",
       "    .dataframe tbody tr th {\n",
       "        vertical-align: top;\n",
       "    }\n",
       "\n",
       "    .dataframe thead th {\n",
       "        text-align: right;\n",
       "    }\n",
       "</style>\n",
       "<table border=\"1\" class=\"dataframe\">\n",
       "  <thead>\n",
       "    <tr style=\"text-align: right;\">\n",
       "      <th></th>\n",
       "      <th>productID</th>\n",
       "      <th>productName</th>\n",
       "      <th>quantity</th>\n",
       "    </tr>\n",
       "  </thead>\n",
       "  <tbody>\n",
       "    <tr>\n",
       "      <th>59</th>\n",
       "      <td>60</td>\n",
       "      <td>Camembert Pierrot</td>\n",
       "      <td>1577</td>\n",
       "    </tr>\n",
       "    <tr>\n",
       "      <th>58</th>\n",
       "      <td>59</td>\n",
       "      <td>Raclette Courdavault</td>\n",
       "      <td>1496</td>\n",
       "    </tr>\n",
       "    <tr>\n",
       "      <th>30</th>\n",
       "      <td>31</td>\n",
       "      <td>Gorgonzola Telino</td>\n",
       "      <td>1397</td>\n",
       "    </tr>\n",
       "    <tr>\n",
       "      <th>55</th>\n",
       "      <td>56</td>\n",
       "      <td>Gnocchi di nonna Alice</td>\n",
       "      <td>1263</td>\n",
       "    </tr>\n",
       "    <tr>\n",
       "      <th>15</th>\n",
       "      <td>16</td>\n",
       "      <td>Pavlova</td>\n",
       "      <td>1158</td>\n",
       "    </tr>\n",
       "  </tbody>\n",
       "</table>\n",
       "</div>"
      ],
      "text/plain": [
       "    productID             productName  quantity\n",
       "59         60       Camembert Pierrot      1577\n",
       "58         59    Raclette Courdavault      1496\n",
       "30         31       Gorgonzola Telino      1397\n",
       "55         56  Gnocchi di nonna Alice      1263\n",
       "15         16                 Pavlova      1158"
      ]
     },
     "execution_count": 61,
     "metadata": {},
     "output_type": "execute_result"
    }
   ],
   "source": [
    "top_products"
   ]
  },
  {
   "cell_type": "code",
   "execution_count": 62,
   "id": "551b035b",
   "metadata": {},
   "outputs": [
    {
     "data": {
      "text/html": [
       "<div>\n",
       "<style scoped>\n",
       "    .dataframe tbody tr th:only-of-type {\n",
       "        vertical-align: middle;\n",
       "    }\n",
       "\n",
       "    .dataframe tbody tr th {\n",
       "        vertical-align: top;\n",
       "    }\n",
       "\n",
       "    .dataframe thead th {\n",
       "        text-align: right;\n",
       "    }\n",
       "</style>\n",
       "<table border=\"1\" class=\"dataframe\">\n",
       "  <thead>\n",
       "    <tr style=\"text-align: right;\">\n",
       "      <th></th>\n",
       "      <th>productID</th>\n",
       "      <th>productName</th>\n",
       "      <th>quantity</th>\n",
       "    </tr>\n",
       "  </thead>\n",
       "  <tbody>\n",
       "    <tr>\n",
       "      <th>66</th>\n",
       "      <td>67</td>\n",
       "      <td>Laughing Lumberjack Lager</td>\n",
       "      <td>184</td>\n",
       "    </tr>\n",
       "    <tr>\n",
       "      <th>47</th>\n",
       "      <td>48</td>\n",
       "      <td>Chocolade</td>\n",
       "      <td>138</td>\n",
       "    </tr>\n",
       "    <tr>\n",
       "      <th>36</th>\n",
       "      <td>37</td>\n",
       "      <td>Gravad lax</td>\n",
       "      <td>125</td>\n",
       "    </tr>\n",
       "    <tr>\n",
       "      <th>14</th>\n",
       "      <td>15</td>\n",
       "      <td>Genen Shouyu</td>\n",
       "      <td>122</td>\n",
       "    </tr>\n",
       "    <tr>\n",
       "      <th>8</th>\n",
       "      <td>9</td>\n",
       "      <td>Mishi Kobe Niku</td>\n",
       "      <td>95</td>\n",
       "    </tr>\n",
       "  </tbody>\n",
       "</table>\n",
       "</div>"
      ],
      "text/plain": [
       "    productID                productName  quantity\n",
       "66         67  Laughing Lumberjack Lager       184\n",
       "47         48                  Chocolade       138\n",
       "36         37                 Gravad lax       125\n",
       "14         15               Genen Shouyu       122\n",
       "8           9            Mishi Kobe Niku        95"
      ]
     },
     "execution_count": 62,
     "metadata": {},
     "output_type": "execute_result"
    }
   ],
   "source": [
    "worst_products"
   ]
  },
  {
   "cell_type": "code",
   "execution_count": 69,
   "id": "c0d8a037",
   "metadata": {},
   "outputs": [
    {
     "data": {
      "image/png": "[encoded data removed]",
      "text/plain": [
       "<Figure size 1200x600 with 1 Axes>"
      ]
     },
     "metadata": {},
     "output_type": "display_data"
    }
   ],
   "source": [
    "plt.figure(figsize=(12,6))\n",
    "sns.barplot(x='quantity', y='productName', data=combined_products, palette='magma')\n",
    "plt.title('Top 5 and Worst 5 Products Sold')\n",
    "plt.xlabel('Total Quantity Sold')\n",
    "plt.ylabel('Product Name')\n",
    "plt.tight_layout()\n",
    "plt.show()"
   ]
  },
  {
   "cell_type": "markdown",
   "id": "7bfccc9d",
   "metadata": {},
   "source": [
    "Can you identify any key customers?"
   ]
  },
  {
   "cell_type": "code",
   "execution_count": 72,
   "id": "7d874f3b",
   "metadata": {},
   "outputs": [
    {
     "data": {
      "text/html": [
       "<div>\n",
       "<style scoped>\n",
       "    .dataframe tbody tr th:only-of-type {\n",
       "        vertical-align: middle;\n",
       "    }\n",
       "\n",
       "    .dataframe tbody tr th {\n",
       "        vertical-align: top;\n",
       "    }\n",
       "\n",
       "    .dataframe thead th {\n",
       "        text-align: right;\n",
       "    }\n",
       "</style>\n",
       "<table border=\"1\" class=\"dataframe\">\n",
       "  <thead>\n",
       "    <tr style=\"text-align: right;\">\n",
       "      <th></th>\n",
       "      <th>customerID</th>\n",
       "      <th>companyName</th>\n",
       "      <th>total_spent</th>\n",
       "    </tr>\n",
       "  </thead>\n",
       "  <tbody>\n",
       "    <tr>\n",
       "      <th>60</th>\n",
       "      <td>QUICK</td>\n",
       "      <td>QUICK-Stop</td>\n",
       "      <td>110277.3050</td>\n",
       "    </tr>\n",
       "    <tr>\n",
       "      <th>19</th>\n",
       "      <td>ERNSH</td>\n",
       "      <td>Ernst Handel</td>\n",
       "      <td>104874.9785</td>\n",
       "    </tr>\n",
       "    <tr>\n",
       "      <th>68</th>\n",
       "      <td>SAVEA</td>\n",
       "      <td>Save-a-lot Markets</td>\n",
       "      <td>104361.9500</td>\n",
       "    </tr>\n",
       "    <tr>\n",
       "      <th>62</th>\n",
       "      <td>RATTC</td>\n",
       "      <td>Rattlesnake Canyon Grocery</td>\n",
       "      <td>51097.8005</td>\n",
       "    </tr>\n",
       "    <tr>\n",
       "      <th>35</th>\n",
       "      <td>HUNGO</td>\n",
       "      <td>Hungry Owl All-Night Grocers</td>\n",
       "      <td>49979.9050</td>\n",
       "    </tr>\n",
       "  </tbody>\n",
       "</table>\n",
       "</div>"
      ],
      "text/plain": [
       "   customerID                   companyName  total_spent\n",
       "60      QUICK                    QUICK-Stop  110277.3050\n",
       "19      ERNSH                  Ernst Handel  104874.9785\n",
       "68      SAVEA            Save-a-lot Markets  104361.9500\n",
       "62      RATTC    Rattlesnake Canyon Grocery   51097.8005\n",
       "35      HUNGO  Hungry Owl All-Night Grocers   49979.9050"
      ]
     },
     "execution_count": 72,
     "metadata": {},
     "output_type": "execute_result"
    }
   ],
   "source": [
    "merged_customers = pd.merge(customers, orders, on='customerID')\n",
    "merged_customers = pd.merge(merged_customers, order_details, on='orderID')\n",
    "\n",
    "merged_customers['total_spent'] = merged_customers['unitPrice'] * merged_customers['quantity'] * (1 - merged_customers['discount'])\n",
    "customer_spending = merged_customers.groupby(['customerID', 'companyName'])['total_spent'].sum().reset_index()\n",
    "\n",
    "top_customers = customer_spending.sort_values(by='total_spent', ascending=False).head(5)\n",
    "top_customers"
   ]
  },
  {
   "cell_type": "markdown",
   "id": "6929199f",
   "metadata": {},
   "source": [
    "Are shipping costs consistent across providers?"
   ]
  },
  {
   "cell_type": "code",
   "execution_count": 76,
   "id": "6726fe36",
   "metadata": {},
   "outputs": [
    {
     "data": {
      "image/png": "[encoded data removed]",
      "text/plain": [
       "<Figure size 1200x600 with 1 Axes>"
      ]
     },
     "metadata": {},
     "output_type": "display_data"
    }
   ],
   "source": [
    "merged_shippers = pd.merge(orders, shippers, on='shipperID')\n",
    "\n",
    "merged_shippers['month'] = merged_shippers['orderDate'].dt.to_period('M').dt.to_timestamp()\n",
    "shipper_freight = merged_shippers.groupby(['month', 'shipperID', 'companyName'])['freight'].sum().reset_index()\n",
    "\n",
    "november_freight = shipper_freight[shipper_freight['month'] == '2014-11']\n",
    "\n",
    "#filtering for a specific month\n",
    "\n",
    "plt.figure(figsize=(12, 6))\n",
    "sns.barplot(x='freight', y='companyName', data=november_freight, palette='Paired')\n",
    "plt.title('Total Freight Costs for Shippers (November 2014)')\n",
    "plt.xlabel('Total Freight')\n",
    "plt.ylabel('Shipper Name')\n",
    "plt.show()\n"
   ]
  }
 ],
 "metadata": {
  "kernelspec": {
   "display_name": "Python 3 (ipykernel)",
   "language": "python",
   "name": "python3"
  },
  "language_info": {
   "codemirror_mode": {
    "name": "ipython",
    "version": 3
   },
   "file_extension": ".py",
   "mimetype": "text/x-python",
   "name": "python",
   "nbconvert_exporter": "python",
   "pygments_lexer": "ipython3",
   "version": "3.11.8"
  }
 },
 "nbformat": 4,
 "nbformat_minor": 5
}
